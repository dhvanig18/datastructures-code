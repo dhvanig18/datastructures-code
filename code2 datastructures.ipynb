{
  "nbformat": 4,
  "nbformat_minor": 0,
  "metadata": {
    "colab": {
      "name": "Untitled0.ipynb",
      "provenance": [],
      "authorship_tag": "ABX9TyOEGdAozqzKSPwsaYOLCJSn",
      "include_colab_link": true
    },
    "kernelspec": {
      "name": "python3",
      "display_name": "Python 3"
    }
  },
  "cells": [
    {
      "cell_type": "markdown",
      "metadata": {
        "id": "view-in-github",
        "colab_type": "text"
      },
      "source": [
        "<a href=\"https://colab.research.google.com/github/dhvanig18/desktop-tutorial/blob/master/code2%20datastructures.ipynb\" target=\"_parent\"><img src=\"https://colab.research.google.com/assets/colab-badge.svg\" alt=\"Open In Colab\"/></a>"
      ]
    },
    {
      "cell_type": "markdown",
      "metadata": {
        "id": "xUluE3XgBs2A",
        "colab_type": "text"
      },
      "source": [
        "assigning elements to different lists"
      ]
    },
    {
      "cell_type": "code",
      "metadata": {
        "id": "Lnt4xfDo-AEJ",
        "colab_type": "code",
        "colab": {
          "base_uri": "https://localhost:8080/",
          "height": 52
        },
        "outputId": "54f9b7e9-24f1-4f4b-e14d-4dfcd4d1a767"
      },
      "source": [
        "num1 = [1,2,3,4]\n",
        "num2 = [10,20,30,40]\n",
        "num1.append(44)\n",
        "num2.extend([100,80])\n",
        "print(\"num1 = \",num1)\n",
        "print(\"num2\",num2)"
      ],
      "execution_count": 1,
      "outputs": [
        {
          "output_type": "stream",
          "text": [
            "num1 =  [1, 2, 3, 4, 44]\n",
            "num2 [10, 20, 30, 40, 100, 80]\n"
          ],
          "name": "stdout"
        }
      ]
    },
    {
      "cell_type": "markdown",
      "metadata": {
        "id": "tqyOFnLHB56-",
        "colab_type": "text"
      },
      "source": [
        "accessing elements from a tuple\n"
      ]
    },
    {
      "cell_type": "code",
      "metadata": {
        "id": "zqjClk2J-X-d",
        "colab_type": "code",
        "colab": {
          "base_uri": "https://localhost:8080/",
          "height": 69
        },
        "outputId": "d8500528-e400-4f7b-f1fd-badf8d440ddb"
      },
      "source": [
        "tuple = ['t','u','p','l','e']\n",
        "print(tuple[3])\n",
        "print(tuple[1:4])\n",
        "print(tuple[-5])"
      ],
      "execution_count": 2,
      "outputs": [
        {
          "output_type": "stream",
          "text": [
            "l\n",
            "['u', 'p', 'l']\n",
            "t\n"
          ],
          "name": "stdout"
        }
      ]
    },
    {
      "cell_type": "markdown",
      "metadata": {
        "id": "JXcs2YkyCB1S",
        "colab_type": "text"
      },
      "source": [
        "deleting different dictionary elements "
      ]
    },
    {
      "cell_type": "code",
      "metadata": {
        "id": "-_M6xIpxBdLb",
        "colab_type": "code",
        "colab": {
          "base_uri": "https://localhost:8080/",
          "height": 52
        },
        "outputId": "41ddffcc-71d2-4908-98b0-deb6bbd2b54c"
      },
      "source": [
        "dict = {1:'a',2:'b',3:'c',4:'d'}\n",
        "del dict[4] \n",
        "print(dict)\n",
        "dict.pop(3)\n",
        "print(dict)"
      ],
      "execution_count": 13,
      "outputs": [
        {
          "output_type": "stream",
          "text": [
            "{1: 'a', 2: 'b', 3: 'c'}\n",
            "{1: 'a', 2: 'b'}\n"
          ],
          "name": "stdout"
        }
      ]
    },
    {
      "cell_type": "code",
      "metadata": {
        "id": "ksAlhwRbDQE0",
        "colab_type": "code",
        "colab": {}
      },
      "source": [
        ""
      ],
      "execution_count": 0,
      "outputs": []
    }
  ]
}